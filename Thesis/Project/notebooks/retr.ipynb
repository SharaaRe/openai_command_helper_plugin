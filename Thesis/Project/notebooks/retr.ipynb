{
 "cells": [
  {
   "cell_type": "code",
   "execution_count": 19,
   "metadata": {},
   "outputs": [],
   "source": [
    "import pandas\n",
    "import openai \n",
    "from openai import AsyncOpenAI as OpenAI\n",
    "from dotenv import load_dotenv, find_dotenv\n",
    "import os\n",
    "import sys\n",
    "import dotenv\n",
    "import json\n",
    "import asyncio\n",
    "import time\n",
    "from langchain_openai import ChatOpenAI, OpenAIEmbeddings\n",
    "from langchain.prompts import ChatPromptTemplate\n",
    "from langchain.output_parsers import ResponseSchema, StructuredOutputParser\n",
    "from langchain.chains import Chain\n",
    "from langchain.vectorstores.chroma import Chroma\n",
    "\n",
    "from langchain.chains.combine_documents import create_stuff_documents_chain\n",
    "from langchain.chains import create_retrieval_chain\n",
    "from langchain.prompts import PromptTemplate\n",
    "from langchain_core.output_parsers import JsonOutputParser\n",
    "from langchain_core.pydantic_v1 import BaseModel, Field\n",
    "from langchain.chains import create_qa_with_sources_chain\n",
    "from langchain.chains.combine_documents.stuff import StuffDocumentsChain\n",
    "\n",
    "from langchain.chat_models import ChatOpenAI\n",
    "from langchain.prompts import ChatPromptTemplate\n",
    "from langchain.chains import LLMChain\n"
   ]
  },
  {
   "cell_type": "code",
   "execution_count": 3,
   "metadata": {},
   "outputs": [],
   "source": [
    "# Specify the path to your .env file\n",
    "env_file_path = '.env'  # Update this with the correct path\n",
    "\n",
    "# source_path = __file__\n",
    "\n",
    "# Get the directory of the current file\n",
    "# source_dir = os.path.dirname(source_path)\n",
    "\n",
    "from dotenv import load_dotenv, find_dotenv\n",
    "_ = load_dotenv(find_dotenv()) # read local .env file\n",
    "openai.api_key = os.environ['OPENAI_API_KEY']\n",
    "db = Chroma(\n",
    "    persist_directory=\"./chroma\",\n",
    "    embedding_function=OpenAIEmbeddings(model=\"text-embedding-ada-002\"),\n",
    ")\n"
   ]
  },
  {
   "cell_type": "code",
   "execution_count": 4,
   "metadata": {},
   "outputs": [
    {
     "data": {
      "text/plain": [
       "<langchain_community.vectorstores.chroma.Chroma at 0x137e72ad0>"
      ]
     },
     "execution_count": 4,
     "metadata": {},
     "output_type": "execute_result"
    }
   ],
   "source": [
    "db"
   ]
  },
  {
   "cell_type": "code",
   "execution_count": 6,
   "metadata": {},
   "outputs": [
    {
     "data": {
      "text/plain": [
       "VectorStoreRetriever(tags=['Chroma', 'OpenAIEmbeddings'], vectorstore=<langchain_community.vectorstores.chroma.Chroma object at 0x137e72ad0>)"
      ]
     },
     "execution_count": 6,
     "metadata": {},
     "output_type": "execute_result"
    }
   ],
   "source": [
    "from langchain_core import Document, BaseRetriever\n",
    "from typing import List\n",
    "\n",
    "class SimpleRetriever(BaseRetriever):\n",
    "    docs: List[Document]\n",
    "    k: int = 5\n",
    "\n",
    "    def _get_relevant_documents(self, query: str) -> List[Document]:\n",
    "        \"\"\"Return the first k documents from the list of documents\"\"\"\n",
    "        return self.docs[:self.k]\n",
    "\n",
    "    async def _aget_relevant_documents(self, query: str) -> List[Document]:\n",
    "        \"\"\"(Optional) async native implementation.\"\"\"\n",
    "        return self.docs[:self.k]"
   ]
  },
  {
   "cell_type": "code",
   "execution_count": 7,
   "metadata": {},
   "outputs": [],
   "source": [
    "def load_prompt(prompt_file):\n",
    "\n",
    "        with open(prompt_file, 'r') as file:\n",
    "                prompt = file.read().replace('\\n', '')\n",
    "                return prompt\n",
    "    "
   ]
  },
  {
   "cell_type": "code",
   "execution_count": 8,
   "metadata": {},
   "outputs": [],
   "source": [
    "llm_model = \"gpt-3.5-turbo\"\n",
    "user_instruction = \"I want a cone\"\n",
    "model = ChatOpenAI(temperature=0.0, model=llm_model)\n"
   ]
  },
  {
   "cell_type": "code",
   "execution_count": 69,
   "metadata": {},
   "outputs": [
    {
     "data": {
      "text/plain": [
       "'You are an expert rhino3d designer who can work with rhino3d api,the user will give you instructions about an action in rhino and you should give a command of \\'RhinoScript\\' forrunning in RhinoCommon framework \\'RunScript\\' method, put the command in a json.Take these steps to make sure you generate the proper script.1. Find the steps needed for the instruction to be executed.2. Use the context to figure out the parameters and steps of the command needed.3. Find the proper measurements based on the users instruction and assign it to the parameters.4. Make sure you are using the correct parameters and correct order of parameters for each command. 5. Genereate the command for each step and fill in the unknown values for parameters with default values.6. structure the commands in a json format.7. If you have any notes or description about the commands, put it in the \\'description\\' note in the json.The response format should follow the following JSON format. It has to be a json without any notes. If any notes are needed they should be put in the \\'description\\' object of the JSON.{{ \"RhinoScript\": [\"_-Sphere 0,0,0 1\"], \"description\": \"It is an sphere centering at point 0,0,0 with radius of 1 unit. The steps needed are 1.Using the Cone command, 2. Choosing the center point, 3. Entering the radius. The command used is Sphere and the parameters are the center point and the radius like _-Sphere center radius\"}}These are a few examples of the user instructions and the proper RhinoScript output:{{  \"Examples\": [    {{      \"user_instruction\": \"please create a sphere\",      \"output\": {{\"RhinoScript\": [\"_-Sphere 0,0,0 1\"]}}\"    }},    {{      \"user_instruction\": \"I want an array of the last object created\",      \"output\": {{\"RhinoScript\": [ \"_-SelLast\", \"_-ArrayLinear _Count=5 _Direction=1,0,0 _Distance=10 _DeleteInput=No\"]}}    }},    {{      \"user_instruction\": \"Create an ellipse with a major axis of 15 units and a minor axis of 10 units.\",      \"output\": {{\"RhinoScript\": [\"_-Ellipse 0,0,0 0,15,0 10,0,0\"]}}    }}    ]  }}{context}This is user\\'s request: << {input} >>Please make sure it is a valid syntax and works if I feed it to the rhino command line!'"
      ]
     },
     "execution_count": 69,
     "metadata": {},
     "output_type": "execute_result"
    }
   ],
   "source": [
    "template_string = load_prompt('./Project/prompts/11.txt')\n",
    "template_string"
   ]
  },
  {
   "cell_type": "code",
   "execution_count": 70,
   "metadata": {},
   "outputs": [
    {
     "data": {
      "text/plain": [
       "PromptTemplate(input_variables=['context', 'input'], template='You are an expert rhino3d designer who can work with rhino3d api,the user will give you instructions about an action in rhino and you should give a command of \\'RhinoScript\\' forrunning in RhinoCommon framework \\'RunScript\\' method, put the command in a json.Take these steps to make sure you generate the proper script.1. Find the steps needed for the instruction to be executed.2. Use the context to figure out the parameters and steps of the command needed.3. Find the proper measurements based on the users instruction and assign it to the parameters.4. Make sure you are using the correct parameters and correct order of parameters for each command. 5. Genereate the command for each step and fill in the unknown values for parameters with default values.6. structure the commands in a json format.7. If you have any notes or description about the commands, put it in the \\'description\\' note in the json.The response format should follow the following JSON format. It has to be a json without any notes. If any notes are needed they should be put in the \\'description\\' object of the JSON.{{ \"RhinoScript\": [\"_-Sphere 0,0,0 1\"], \"description\": \"It is an sphere centering at point 0,0,0 with radius of 1 unit. The steps needed are 1.Using the Cone command, 2. Choosing the center point, 3. Entering the radius. The command used is Sphere and the parameters are the center point and the radius like _-Sphere center radius\"}}These are a few examples of the user instructions and the proper RhinoScript output:{{  \"Examples\": [    {{      \"user_instruction\": \"please create a sphere\",      \"output\": {{\"RhinoScript\": [\"_-Sphere 0,0,0 1\"]}}\"    }},    {{      \"user_instruction\": \"I want an array of the last object created\",      \"output\": {{\"RhinoScript\": [ \"_-SelLast\", \"_-ArrayLinear _Count=5 _Direction=1,0,0 _Distance=10 _DeleteInput=No\"]}}    }},    {{      \"user_instruction\": \"Create an ellipse with a major axis of 15 units and a minor axis of 10 units.\",      \"output\": {{\"RhinoScript\": [\"_-Ellipse 0,0,0 0,15,0 10,0,0\"]}}    }}    ]  }}{context}This is user\\'s request: << {input} >>Please make sure it is a valid syntax and works if I feed it to the rhino command line!')"
      ]
     },
     "execution_count": 70,
     "metadata": {},
     "output_type": "execute_result"
    }
   ],
   "source": [
    "prompt = PromptTemplate(\n",
    "    input_variables=[\"context\", \"input\"], template=template_string\n",
    ")\n",
    "prompt"
   ]
  },
  {
   "cell_type": "code",
   "execution_count": 75,
   "metadata": {},
   "outputs": [],
   "source": [
    "main_chain = LLMChain(\n",
    "            llm=model, prompt=prompt\n",
    "        )"
   ]
  },
  {
   "cell_type": "code",
   "execution_count": null,
   "metadata": {},
   "outputs": [],
   "source": []
  },
  {
   "cell_type": "code",
   "execution_count": 47,
   "metadata": {},
   "outputs": [],
   "source": [
    "doc_prompt = PromptTemplate(\n",
    "    template=\"Content: {page_content}\\nSource: {source}\",\n",
    "    input_variables=[\"page_content\", \"source\"],\n",
    ")"
   ]
  },
  {
   "cell_type": "code",
   "execution_count": null,
   "metadata": {},
   "outputs": [],
   "source": [
    "\n"
   ]
  },
  {
   "cell_type": "code",
   "execution_count": 49,
   "metadata": {},
   "outputs": [],
   "source": [
    "combine_docs_chain = create_stuff_documents_chain(\n",
    "    model, prompt\n",
    ")\n",
    "retrieval_chain = create_retrieval_chain(db.as_retriever(), combine_docs_chain)\n"
   ]
  },
  {
   "cell_type": "code",
   "execution_count": 50,
   "metadata": {},
   "outputs": [
    {
     "data": {
      "text/plain": [
       "RunnableBinding(bound=RunnableAssign(mapper={\n",
       "  context: RunnableBinding(bound=RunnableLambda(lambda x: x['input'])\n",
       "           | VectorStoreRetriever(tags=['Chroma', 'OpenAIEmbeddings'], vectorstore=<langchain_community.vectorstores.chroma.Chroma object at 0x137e72ad0>), config={'run_name': 'retrieve_documents'})\n",
       "})\n",
       "| RunnableAssign(mapper={\n",
       "    answer: RunnableBinding(bound=RunnableBinding(bound=RunnableAssign(mapper={\n",
       "              context: RunnableLambda(format_docs)\n",
       "            }), config={'run_name': 'format_inputs'})\n",
       "            | PromptTemplate(input_variables=['context', 'input'], template='You are an expert rhino3d designer who can work with rhino3d api,the user will give you instructions about an action in rhino and you should give a command of \\'RhinoScript\\' forrunning in RhinoCommon framework \\'RunScript\\' method, put the command in a json.Take these steps to make sure you generate the proper script.1. Find the steps needed for the instruction to be executed.2. Use the context to figure out the parameters and steps of the command needed.3. Find the proper measurements based on the users instruction and assign it to the parameters.4. Make sure you are using the correct parameters and correct order of parameters for each command. 5. Genereate the command for each step and fill in the unknown values for parameters with default values.6. structure the commands in a json format.7. If you have any notes or description about the commands, put it in the \\'description\\' note in the json.The response format should follow the following JSON format. It has to be a json without any notes. If any notes are needed they should be put in the \\'description\\' object of the JSON.{{ \"RhinoScript\": [\"_-Sphere 0,0,0 1\"], \"description\": \"It is an sphere centering at point 0,0,0 with radius of 1 unit. The steps needed are 1.Using the Cone command, 2. Choosing the center point, 3. Entering the radius. The command used is Sphere and the parameters are the center point and the radius like _-Sphere center radius\"}}These are a few examples of the user instructions and the proper RhinoScript output:{{  \"Examples\": [    {{      \"user_instruction\": \"please create a sphere\",      \"output\": {{\"RhinoScript\": [\"_-Sphere 0,0,0 1\"]}}\"    }},    {{      \"user_instruction\": \"I want an array of the last object created\",      \"output\": {{\"RhinoScript\": [ \"_-SelLast\", \"_-ArrayLinear _Count=5 _Direction=1,0,0 _Distance=10 _DeleteInput=No\"]}}    }},    {{      \"user_instruction\": \"Create an ellipse with a major axis of 15 units and a minor axis of 10 units.\",      \"output\": {{\"RhinoScript\": [\"_-Ellipse 0,0,0 0,15,0 10,0,0\"]}}    }}    ]  }}{context}This is user\\'s request: << {input} >>Please make sure it is a valid syntax and works if I feed it to the rhino command line!')\n",
       "            | ChatOpenAI(client=<openai.resources.chat.completions.Completions object at 0x1427b65d0>, async_client=<openai.resources.chat.completions.AsyncCompletions object at 0x142080150>, temperature=0.0, openai_api_key=SecretStr('**********'), openai_proxy='')\n",
       "            | StrOutputParser(), config={'run_name': 'stuff_documents_chain'})\n",
       "  }), config={'run_name': 'retrieval_chain'})"
      ]
     },
     "execution_count": 50,
     "metadata": {},
     "output_type": "execute_result"
    }
   ],
   "source": [
    "retrieval_chain"
   ]
  },
  {
   "cell_type": "code",
   "execution_count": 51,
   "metadata": {},
   "outputs": [
    {
     "data": {
      "text/plain": [
       "{'input': ' I want a cone',\n",
       " 'context': [Document(page_content='VolumeMoments \\n \\n Report the volume moments of inertia of surfaces and polysurfaces. \\n W \\n \\n WalkAbout \\n \\n Toggle between WalkAbout and normal navigation modes. \\n \\n WebBrowser \\n \\n Opens the Web Browser panel. \\n \\n Weight \\n \\n Edit the weight of a curve or surface control point. \\n \\n Weld \\n \\n Remove creases from a mesh by merging coincident mesh vertices. \\n \\n WeldEdge \\n \\n Remove creases from a mesh by merging coincident mesh vertices along selected edges. \\n \\n WeldVertices \\n \\n Remove creases from a mesh by merging all selected mesh vertices. \\n \\n What \\n \\n Report object properties details. \\n \\n WireCut \\n \\n Trim a polysurface with a curve similar to cutting foam with a heated wire. \\n \\n Worksession \\n \\n Manage a list of models that can be used as reference geometry. \\n X, Y, Z \\n \\n Zebra \\n \\n Visually evaluate surface smoothness and continuity using a stripe map. \\n \\n ZebraOff \\n \\n Turn off zebra analysis. \\n \\n Zoom', metadata={'source': 'https://docs.mcneel.com//rhino/5/help/en-us/commandlist/command_list.htm', 'title': 'Command list | Rhino 3-D modeling'}),\n",
       "  Document(page_content='VolumeMoments \\n \\n Report the volume moments of inertia of surfaces and polysurfaces. \\n W \\n \\n WalkAbout \\n \\n Toggle between WalkAbout and normal navigation modes. \\n \\n WebBrowser \\n \\n Opens the Web Browser panel. \\n \\n Weight \\n \\n Edit the weight of a curve or surface control point. \\n \\n Weld \\n \\n Remove creases from a mesh by merging coincident mesh vertices. \\n \\n WeldEdge \\n \\n Remove creases from a mesh by merging coincident mesh vertices along selected edges. \\n \\n WeldVertices \\n \\n Remove creases from a mesh by merging all selected mesh vertices. \\n \\n What \\n \\n Report object properties details. \\n \\n WireCut \\n \\n Trim a polysurface with a curve similar to cutting foam with a heated wire. \\n \\n Worksession \\n \\n Manage a list of models that can be used as reference geometry. \\n X, Y, Z \\n \\n Zebra \\n \\n Visually evaluate surface smoothness and continuity using a stripe map. \\n \\n ZebraOff \\n \\n Turn off zebra analysis. \\n \\n Zoom', metadata={'source': 'https://docs.mcneel.com//rhino/5/help/en-us/commandlist/command_list.htm', 'title': 'Command list | Rhino 3-D modeling'}),\n",
       "  Document(page_content='TruncatedPyramid \\n \\n Draw a pyramid whose apex is truncated by a plane. \\n \\n Tube \\n \\n Draw a closed cylinder with a concentric cylindrical hole. \\n \\n Turntable \\n \\n Rotate a view around the target. \\n \\n TweenCurves \\n \\n Create curves between two open or closed input curves. \\n \\n TweenSurfaces \\n \\n Create intermediate surfaces between two input surfaces. \\n \\n Twist \\n \\n Deform objects by rotating portions around an axis. \\n U \\n \\n Undo \\n \\n Undo the last action. \\n \\n UndoMultiple \\n \\n Display a list of recent commands to reverse. \\n \\n UndoSelected \\n \\n Reverse recent changes for a single object only. \\n \\n UndoView \\n \\n Undo the last view change. \\n \\n Ungroup \\n \\n Remove the group status from objects. \\n \\n UnifyMeshNormals \\n \\n Change the normal direction mesh faces so they all point in a consistent direction. \\n \\n UnjoinEdge \\n \\n Split polysurface edges. \\n \\n Unlock \\n \\n Unlock all locked objects. \\n \\n UnlockSelected \\n \\n Unlock selected locked objects. \\n \\n UnpackTextures \\n \\n Reset the texture coordinates.', metadata={'source': 'https://docs.mcneel.com//rhino/5/help/en-us/commandlist/command_list.htm', 'title': 'Command list | Rhino 3-D modeling'}),\n",
       "  Document(page_content='TruncatedPyramid \\n \\n Draw a pyramid whose apex is truncated by a plane. \\n \\n Tube \\n \\n Draw a closed cylinder with a concentric cylindrical hole. \\n \\n Turntable \\n \\n Rotate a view around the target. \\n \\n TweenCurves \\n \\n Create curves between two open or closed input curves. \\n \\n TweenSurfaces \\n \\n Create intermediate surfaces between two input surfaces. \\n \\n Twist \\n \\n Deform objects by rotating portions around an axis. \\n U \\n \\n Undo \\n \\n Undo the last action. \\n \\n UndoMultiple \\n \\n Display a list of recent commands to reverse. \\n \\n UndoSelected \\n \\n Reverse recent changes for a single object only. \\n \\n UndoView \\n \\n Undo the last view change. \\n \\n Ungroup \\n \\n Remove the group status from objects. \\n \\n UnifyMeshNormals \\n \\n Change the normal direction mesh faces so they all point in a consistent direction. \\n \\n UnjoinEdge \\n \\n Split polysurface edges. \\n \\n Unlock \\n \\n Unlock all locked objects. \\n \\n UnlockSelected \\n \\n Unlock selected locked objects. \\n \\n UnpackTextures \\n \\n Reset the texture coordinates.', metadata={'source': 'https://docs.mcneel.com//rhino/5/help/en-us/commandlist/command_list.htm', 'title': 'Command list | Rhino 3-D modeling'})],\n",
       " 'answer': '{\\n  \"RhinoScript\": [\"_-Cone 0,0,0 0,0,1 5\"],\\n  \"description\": \"It is a cone with the base centering at point 0,0,0, the apex at 0,0,1, and a radius of 5 units. The steps needed are 1. Using the Cone command, 2. Choosing the base center point, 3. Entering the apex point, 4. Entering the radius. The command used is Cone and the parameters are the base center point, the apex point, and the radius like _-Cone base apex radius\"\\n}'}"
      ]
     },
     "execution_count": 51,
     "metadata": {},
     "output_type": "execute_result"
    }
   ],
   "source": [
    "retrieval_chain.invoke({'input': \" I want a cone\"})"
   ]
  },
  {
   "cell_type": "code",
   "execution_count": 53,
   "metadata": {},
   "outputs": [],
   "source": [
    "from langchain.chains import SequentialChain"
   ]
  },
  {
   "cell_type": "code",
   "execution_count": 78,
   "metadata": {},
   "outputs": [
    {
     "data": {
      "text/plain": [
       "{'input': 'I want a birthday hat shape',\n",
       " 'context': [Document(page_content='H \\n \\n HandleCurve \\n \\n Draw chained  Bézier curves  with editing handles. \\n \\n Hatch \\n \\n Create a pattern of lines to fill bounding curves. \\n \\n HatchBase \\n \\n Set a starting point for existing hatches. \\n \\n HatchScale \\n \\n Scale hatch patterns in model and layout space. \\n \\n HBar \\n \\n Edit a curve or surface with Bézier curve editing handles. \\n \\n Heightfield \\n \\n Create a surface based on gray-scale color values in an image file. \\n \\n Helix \\n \\n Draw a helical curve with options for number of turns, pitch, vertical, reverse, and around a curve. \\n \\n Help \\n \\n Open the Help topic for the current command. \\n \\n Hide \\n \\n Conceal objects from view. \\n \\n HideInDetail \\n \\n Conceal objects in a detail view. \\n \\n HideLayersInDetail \\n \\n Conceal layers in a detail view. \\n \\n HidePt \\n \\n Conceal control and edit points. \\n \\n HideRenderMesh \\n \\n Hide the render mesh displayed with the  ShowRenderMesh  command. \\n \\n HideSwap \\n \\n Conceal all visible objects and re-displays all previously hidden objects. \\n \\n History', metadata={'source': 'https://docs.mcneel.com//rhino/5/help/en-us/commandlist/command_list.htm', 'title': 'Command list | Rhino 3-D modeling'}),\n",
       "  Document(page_content='H \\n \\n HandleCurve \\n \\n Draw chained  Bézier curves  with editing handles. \\n \\n Hatch \\n \\n Create a pattern of lines to fill bounding curves. \\n \\n HatchBase \\n \\n Set a starting point for existing hatches. \\n \\n HatchScale \\n \\n Scale hatch patterns in model and layout space. \\n \\n HBar \\n \\n Edit a curve or surface with Bézier curve editing handles. \\n \\n Heightfield \\n \\n Create a surface based on gray-scale color values in an image file. \\n \\n Helix \\n \\n Draw a helical curve with options for number of turns, pitch, vertical, reverse, and around a curve. \\n \\n Help \\n \\n Open the Help topic for the current command. \\n \\n Hide \\n \\n Conceal objects from view. \\n \\n HideInDetail \\n \\n Conceal objects in a detail view. \\n \\n HideLayersInDetail \\n \\n Conceal layers in a detail view. \\n \\n HidePt \\n \\n Conceal control and edit points. \\n \\n HideRenderMesh \\n \\n Hide the render mesh displayed with the  ShowRenderMesh  command. \\n \\n HideSwap \\n \\n Conceal all visible objects and re-displays all previously hidden objects. \\n \\n History', metadata={'source': 'https://docs.mcneel.com//rhino/5/help/en-us/commandlist/command_list.htm', 'title': 'Command list | Rhino 3-D modeling'}),\n",
       "  Document(page_content='Turn off thickness analysis display. \\n \\n TiltView \\n \\n Rotate the view around the view axis. \\n \\n ToggleFloatingViewport \\n \\n Toggle the viewport between docked and floating. \\n \\n ToggleRenderMesh \\n \\n Toggle the display state of render meshes on an object. \\n \\n Toolbar \\n \\n Manage the toolbars and toolbar buttons. \\n \\n ToolbarLock \\n \\n Lock docked toolbars locations. \\n \\n ToolbarReset \\n \\n Restore toolbars to the default layout. \\n \\n Torus \\n \\n Draw a torus (donut shape). \\n \\n TriangulateMesh \\n \\n Split each quadrangular mesh face into two triangles. \\n \\n TriangulateNonPlanarQuads \\n \\n Split each non-planar quadrangular mesh face into two triangles. \\n \\n TriangulateRenderMeshes \\n \\n Split each quadrangular polygon render mesh face into two triangles. \\n \\n Trim \\n \\n Cut and delete selected portions of an object at the intersection with another object. \\n \\n TruncatedPyramid \\n \\n Draw a pyramid whose apex is truncated by a plane. \\n \\n Tube \\n \\n Draw a closed cylinder with a concentric cylindrical hole.', metadata={'source': 'https://docs.mcneel.com//rhino/5/help/en-us/commandlist/command_list.htm', 'title': 'Command list | Rhino 3-D modeling'}),\n",
       "  Document(page_content='Turn off thickness analysis display. \\n \\n TiltView \\n \\n Rotate the view around the view axis. \\n \\n ToggleFloatingViewport \\n \\n Toggle the viewport between docked and floating. \\n \\n ToggleRenderMesh \\n \\n Toggle the display state of render meshes on an object. \\n \\n Toolbar \\n \\n Manage the toolbars and toolbar buttons. \\n \\n ToolbarLock \\n \\n Lock docked toolbars locations. \\n \\n ToolbarReset \\n \\n Restore toolbars to the default layout. \\n \\n Torus \\n \\n Draw a torus (donut shape). \\n \\n TriangulateMesh \\n \\n Split each quadrangular mesh face into two triangles. \\n \\n TriangulateNonPlanarQuads \\n \\n Split each non-planar quadrangular mesh face into two triangles. \\n \\n TriangulateRenderMeshes \\n \\n Split each quadrangular polygon render mesh face into two triangles. \\n \\n Trim \\n \\n Cut and delete selected portions of an object at the intersection with another object. \\n \\n TruncatedPyramid \\n \\n Draw a pyramid whose apex is truncated by a plane. \\n \\n Tube \\n \\n Draw a closed cylinder with a concentric cylindrical hole.', metadata={'source': 'https://docs.mcneel.com//rhino/5/help/en-us/commandlist/command_list.htm', 'title': 'Command list | Rhino 3-D modeling'})],\n",
       " 'answer': {'input': 'I want a birthday hat shape',\n",
       "  'context': [Document(page_content='H \\n \\n HandleCurve \\n \\n Draw chained  Bézier curves  with editing handles. \\n \\n Hatch \\n \\n Create a pattern of lines to fill bounding curves. \\n \\n HatchBase \\n \\n Set a starting point for existing hatches. \\n \\n HatchScale \\n \\n Scale hatch patterns in model and layout space. \\n \\n HBar \\n \\n Edit a curve or surface with Bézier curve editing handles. \\n \\n Heightfield \\n \\n Create a surface based on gray-scale color values in an image file. \\n \\n Helix \\n \\n Draw a helical curve with options for number of turns, pitch, vertical, reverse, and around a curve. \\n \\n Help \\n \\n Open the Help topic for the current command. \\n \\n Hide \\n \\n Conceal objects from view. \\n \\n HideInDetail \\n \\n Conceal objects in a detail view. \\n \\n HideLayersInDetail \\n \\n Conceal layers in a detail view. \\n \\n HidePt \\n \\n Conceal control and edit points. \\n \\n HideRenderMesh \\n \\n Hide the render mesh displayed with the  ShowRenderMesh  command. \\n \\n HideSwap \\n \\n Conceal all visible objects and re-displays all previously hidden objects. \\n \\n History', metadata={'source': 'https://docs.mcneel.com//rhino/5/help/en-us/commandlist/command_list.htm', 'title': 'Command list | Rhino 3-D modeling'}),\n",
       "   Document(page_content='H \\n \\n HandleCurve \\n \\n Draw chained  Bézier curves  with editing handles. \\n \\n Hatch \\n \\n Create a pattern of lines to fill bounding curves. \\n \\n HatchBase \\n \\n Set a starting point for existing hatches. \\n \\n HatchScale \\n \\n Scale hatch patterns in model and layout space. \\n \\n HBar \\n \\n Edit a curve or surface with Bézier curve editing handles. \\n \\n Heightfield \\n \\n Create a surface based on gray-scale color values in an image file. \\n \\n Helix \\n \\n Draw a helical curve with options for number of turns, pitch, vertical, reverse, and around a curve. \\n \\n Help \\n \\n Open the Help topic for the current command. \\n \\n Hide \\n \\n Conceal objects from view. \\n \\n HideInDetail \\n \\n Conceal objects in a detail view. \\n \\n HideLayersInDetail \\n \\n Conceal layers in a detail view. \\n \\n HidePt \\n \\n Conceal control and edit points. \\n \\n HideRenderMesh \\n \\n Hide the render mesh displayed with the  ShowRenderMesh  command. \\n \\n HideSwap \\n \\n Conceal all visible objects and re-displays all previously hidden objects. \\n \\n History', metadata={'source': 'https://docs.mcneel.com//rhino/5/help/en-us/commandlist/command_list.htm', 'title': 'Command list | Rhino 3-D modeling'}),\n",
       "   Document(page_content='Turn off thickness analysis display. \\n \\n TiltView \\n \\n Rotate the view around the view axis. \\n \\n ToggleFloatingViewport \\n \\n Toggle the viewport between docked and floating. \\n \\n ToggleRenderMesh \\n \\n Toggle the display state of render meshes on an object. \\n \\n Toolbar \\n \\n Manage the toolbars and toolbar buttons. \\n \\n ToolbarLock \\n \\n Lock docked toolbars locations. \\n \\n ToolbarReset \\n \\n Restore toolbars to the default layout. \\n \\n Torus \\n \\n Draw a torus (donut shape). \\n \\n TriangulateMesh \\n \\n Split each quadrangular mesh face into two triangles. \\n \\n TriangulateNonPlanarQuads \\n \\n Split each non-planar quadrangular mesh face into two triangles. \\n \\n TriangulateRenderMeshes \\n \\n Split each quadrangular polygon render mesh face into two triangles. \\n \\n Trim \\n \\n Cut and delete selected portions of an object at the intersection with another object. \\n \\n TruncatedPyramid \\n \\n Draw a pyramid whose apex is truncated by a plane. \\n \\n Tube \\n \\n Draw a closed cylinder with a concentric cylindrical hole.', metadata={'source': 'https://docs.mcneel.com//rhino/5/help/en-us/commandlist/command_list.htm', 'title': 'Command list | Rhino 3-D modeling'}),\n",
       "   Document(page_content='Turn off thickness analysis display. \\n \\n TiltView \\n \\n Rotate the view around the view axis. \\n \\n ToggleFloatingViewport \\n \\n Toggle the viewport between docked and floating. \\n \\n ToggleRenderMesh \\n \\n Toggle the display state of render meshes on an object. \\n \\n Toolbar \\n \\n Manage the toolbars and toolbar buttons. \\n \\n ToolbarLock \\n \\n Lock docked toolbars locations. \\n \\n ToolbarReset \\n \\n Restore toolbars to the default layout. \\n \\n Torus \\n \\n Draw a torus (donut shape). \\n \\n TriangulateMesh \\n \\n Split each quadrangular mesh face into two triangles. \\n \\n TriangulateNonPlanarQuads \\n \\n Split each non-planar quadrangular mesh face into two triangles. \\n \\n TriangulateRenderMeshes \\n \\n Split each quadrangular polygon render mesh face into two triangles. \\n \\n Trim \\n \\n Cut and delete selected portions of an object at the intersection with another object. \\n \\n TruncatedPyramid \\n \\n Draw a pyramid whose apex is truncated by a plane. \\n \\n Tube \\n \\n Draw a closed cylinder with a concentric cylindrical hole.', metadata={'source': 'https://docs.mcneel.com//rhino/5/help/en-us/commandlist/command_list.htm', 'title': 'Command list | Rhino 3-D modeling'})],\n",
       "  'command': 'The best command line command to create a birthday hat shape in Rhino3D would be to use the \"Revolve\" command. This command allows you to create a shape by revolving a profile curve around an axis. \\n\\nTo create a birthday hat shape, you would first need to draw the profile curve of the hat shape using the drawing tools in Rhino3D. Once you have the profile curve, you can then use the \"Revolve\" command to revolve the curve around an axis to create the 3D shape of the birthday hat. \\n\\nThe specific command line syntax for the \"Revolve\" command would be:\\n```\\nRevolve\\n```\\n\\nYou would then be prompted to select the profile curve and the axis around which to revolve the curve. Follow the prompts to complete the revolve operation and create the birthday hat shape.'}}"
      ]
     },
     "execution_count": 78,
     "metadata": {},
     "output_type": "execute_result"
    }
   ],
   "source": [
    "command_question_template = \"\"\"You are an expert rhino3d designer who can work with rhino3d  command line api.\n",
    "    Based on the user instruction, what is the best \"command line\" command that can be used to complete this request?\n",
    "    {input}\n",
    "\"\"\"\n",
    "command_prompt = PromptTemplate(\n",
    "template=command_question_template,\n",
    "input_variables=[\"input\"]\n",
    ")\n",
    "\n",
    "\n",
    "chain_one = LLMChain(llm=model, prompt=command_prompt, \n",
    "                     output_key=\"command\")\n",
    "\n",
    "prompt_two = \"\"\"Write the steps needed for the {command}\"\"\"\n",
    "\n",
    "prompt_two = PromptTemplate(\n",
    "template=prompt_two,\n",
    "input_variables=[\"command\"]\n",
    ")      \n",
    "\n",
    "chain_two = LLMChain(llm=model, prompt=prompt_two, output_key=\"steps\")\n",
    "\n",
    "\n",
    "retrieval_chain_2 = create_retrieval_chain(db.as_retriever(), chain_one)\n",
    "\n",
    "overall_chain = SequentialChain(\n",
    "    chains=[chain_one, retrieval_chain_2],\n",
    "    input_variables=[\"input\"],\n",
    "    # output_variables=[\"command\", \"steps\", \"RhinoScript\"],\n",
    "    verbose=True\n",
    ")\n",
    "retrieval_chain_2.invoke({'input': \"I want a birthday hat shape\"})\n"
   ]
  },
  {
   "cell_type": "code",
   "execution_count": null,
   "metadata": {},
   "outputs": [],
   "source": []
  }
 ],
 "metadata": {
  "kernelspec": {
   "display_name": "thesis",
   "language": "python",
   "name": "python3"
  },
  "language_info": {
   "codemirror_mode": {
    "name": "ipython",
    "version": 3
   },
   "file_extension": ".py",
   "mimetype": "text/x-python",
   "name": "python",
   "nbconvert_exporter": "python",
   "pygments_lexer": "ipython3",
   "version": "3.11.8"
  }
 },
 "nbformat": 4,
 "nbformat_minor": 2
}

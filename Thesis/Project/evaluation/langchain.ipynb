{
 "cells": [
  {
   "cell_type": "code",
   "execution_count": 9,
   "metadata": {},
   "outputs": [],
   "source": [
    "# from langchain.chat_models import ChatOpenAI\n",
    "from langchain_openai import ChatOpenAI\n",
    "from langchain.prompts import ChatPromptTemplate\n",
    "from langchain.chains import LLMChain"
   ]
  },
  {
   "cell_type": "code",
   "execution_count": 10,
   "metadata": {},
   "outputs": [],
   "source": [
    "import os\n",
    "\n",
    "from dotenv import load_dotenv, find_dotenv\n",
    "_ = load_dotenv(find_dotenv()) # read local .env file"
   ]
  },
  {
   "cell_type": "code",
   "execution_count": 11,
   "metadata": {},
   "outputs": [],
   "source": [
    "llm_model = \"gpt-3.5-turbo\""
   ]
  },
  {
   "cell_type": "code",
   "execution_count": 12,
   "metadata": {},
   "outputs": [],
   "source": [
    "llm = ChatOpenAI(temperature=0, model=llm_model)"
   ]
  },
  {
   "cell_type": "code",
   "execution_count": 13,
   "metadata": {},
   "outputs": [
    {
     "data": {
      "text/plain": [
       "langchain_openai.chat_models.base.ChatOpenAI"
      ]
     },
     "execution_count": 13,
     "metadata": {},
     "output_type": "execute_result"
    }
   ],
   "source": [
    "ChatOpenAI"
   ]
  },
  {
   "cell_type": "code",
   "execution_count": 14,
   "metadata": {},
   "outputs": [],
   "source": [
    "def load_template(prompt_file):\n",
    "\n",
    "        with open(prompt_file, 'r') as file:\n",
    "                prompt = file.read().replace('\\n', '')\n",
    "                return prompt"
   ]
  },
  {
   "cell_type": "code",
   "execution_count": 31,
   "metadata": {},
   "outputs": [],
   "source": [
    "templates_dir = \"/Users/shararenorouzi/Library/CloudStorage/GoogleDrive-norouzi.sharare@gmail.com/My Drive/Thesis/Project/prompts/\"\n",
    "command_list_template = load_template(templates_dir+\"command_list_generator_prompt.txt\")\n",
    "prompt = ChatPromptTemplate.from_template(command_list_template)"
   ]
  },
  {
   "cell_type": "code",
   "execution_count": 25,
   "metadata": {},
   "outputs": [
    {
     "data": {
      "text/plain": [
       "ChatPromptTemplate(input_variables=['user_instruction'], messages=[HumanMessagePromptTemplate(prompt=PromptTemplate(input_variables=['user_instruction'], template=\"You are an expert rhino3d designer who can work with rhino3d api.the user will give you instructions about an action in rhino as 'user_instructions'.You generate a list of commands that are needed for this action.You should generate the list to need to be done to complete this action using rhino commands.Please give the list of the commands as the output.user instruction: {user_instruction}\"))])"
      ]
     },
     "execution_count": 25,
     "metadata": {},
     "output_type": "execute_result"
    }
   ],
   "source": [
    "prompt"
   ]
  },
  {
   "cell_type": "code",
   "execution_count": 27,
   "metadata": {},
   "outputs": [],
   "source": [
    "user_instruction = \"I want a birthday hat\""
   ]
  },
  {
   "cell_type": "code",
   "execution_count": 30,
   "metadata": {},
   "outputs": [
    {
     "name": "stdout",
     "output_type": "stream",
     "text": [
      "RhinoCommand: Cone\n",
      "\n",
      "To create a birthday hat in Rhino3D, you can use the Cone command. Adjust the parameters such as base radius, height, and number of segments to customize the shape of the hat.\n"
     ]
    }
   ],
   "source": [
    "messages = prompt.format_messages(user_instruction=user_instruction)\n",
    "chat = ChatOpenAI(temperature=0.0, model=llm_model)\n",
    "response = chat(messages)\n",
    "print(response.content)"
   ]
  },
  {
   "cell_type": "code",
   "execution_count": 32,
   "metadata": {},
   "outputs": [],
   "source": [
    "from langchain.chains import SequentialChain\n",
    "llm = ChatOpenAI(temperature=0.1, model=llm_model)\n",
    "\n",
    "# prompt template 1: Find the rhino command\n",
    "first_prompt = ChatPromptTemplate.from_template(\n",
    "    \"What is the Rhino3D command needed for this user request\"\n",
    "    \"\\n\\n{user_instruction}\"\n",
    ")\n",
    "# chain 1: input= Find the command and use it in\n",
    "chain_one = LLMChain(llm=llm, prompt=first_prompt, \n",
    "                     output_key=\"Command\"\n",
    "                    )\n"
   ]
  },
  {
   "cell_type": "code",
   "execution_count": 33,
   "metadata": {},
   "outputs": [],
   "source": [
    "second_prompt = ChatPromptTemplate.from_template(\n",
    "    \"What are the Rhino3D command inputs for\"\n",
    "    \"\\n\\n{Command}\"\n",
    ")\n",
    "# chain 2: input= English_Review and output= summary\n",
    "chain_two = LLMChain(llm=llm, prompt=second_prompt, \n",
    "                     output_key=\"inputs\"\n",
    "                    )\n"
   ]
  },
  {
   "cell_type": "code",
   "execution_count": null,
   "metadata": {},
   "outputs": [],
   "source": [
    "fourth_prompt = ChatPromptTemplate.from_template(\n",
    "\"\"\"\"\"\"\n",
    ")\n",
    "# chain 4: input= summary, language and output= followup_message\n",
    "chain_four = LLMChain(llm=llm, prompt=fourth_prompt,\n",
    "                      output_key=\"followup_message\"\n",
    "                     )"
   ]
  },
  {
   "cell_type": "markdown",
   "metadata": {},
   "source": [
    "## HTML Loader TEST"
   ]
  },
  {
   "cell_type": "code",
   "execution_count": 36,
   "metadata": {},
   "outputs": [],
   "source": [
    "from langchain_community.document_loaders import UnstructuredHTMLLoader\n",
    "\n"
   ]
  },
  {
   "cell_type": "code",
   "execution_count": 39,
   "metadata": {},
   "outputs": [
    {
     "name": "stderr",
     "output_type": "stream",
     "text": [
      "[nltk_data] Downloading package punkt to\n",
      "[nltk_data]     /Users/shararenorouzi/nltk_data...\n",
      "[nltk_data]   Unzipping tokenizers/punkt.zip.\n",
      "[nltk_data] Downloading package averaged_perceptron_tagger to\n",
      "[nltk_data]     /Users/shararenorouzi/nltk_data...\n",
      "[nltk_data]   Unzipping taggers/averaged_perceptron_tagger.zip.\n"
     ]
    }
   ],
   "source": [
    "loader = UnstructuredHTMLLoader(\"/Users/shararenorouzi/Library/CloudStorage/GoogleDrive-norouzi.sharare@gmail.com/My Drive/Thesis/command_list.html\")\n",
    "\n",
    "data =loader.load()"
   ]
  },
  {
   "cell_type": "code",
   "execution_count": 43,
   "metadata": {},
   "outputs": [],
   "source": [
    "pages_dir = \"/Users/shararenorouzi/Library/CloudStorage/GoogleDrive-norouzi.sharare@gmail.com/My Drive/Thesis/Pages\""
   ]
  },
  {
   "cell_type": "code",
   "execution_count": 44,
   "metadata": {},
   "outputs": [],
   "source": [
    "loader = UnstructuredHTMLLoader(pages_dir+'/Cone.html')\n",
    "    "
   ]
  },
  {
   "cell_type": "code",
   "execution_count": 45,
   "metadata": {},
   "outputs": [
    {
     "data": {
      "text/plain": [
       "[Document(page_content='Cone\\n\\nWhere can I find this command?\\n\\nToolbars\\n\\nSolids Creation\\n\\nSolids Sidebar\\n\\nMenus\\n\\nSolid\\n\\nCone\\n\\nThe Cone command draws a cone.\\n\\nSteps\\n\\n1. Pick the center and radius of the base.\\n\\nNote: See the Circle command for option descriptions.\\n\\n2. Pick the end of the cone (apex). Your browser does not support the video tag.\\n\\nCommand-line options\\n\\nDirection constraint options\\n\\nDirection constraints restrict the direction of the circle.\\n\\nNone\\n\\nThe center can be anywhere in 3-D space.\\n\\nThe second point can be placed anywhere using elevator mode, object snaps or other modeling aids.\\n\\nVertical\\n\\nDraws an object perpendicular to the construction plane.\\n\\nPick the center and a radius or diameter.\\n\\nAroundCurve\\n\\nDraws a circle perpendicular to a curve.\\n\\nSelect a curve and pick the center of the circle on the curve and a Radius or Diameter.\\n\\nSolid\\n\\nThe Solid option fills the base with a surface to form a closed solid.\\n\\nSee also\\n\\nCreate solid objects\\n\\nRhinoceros 5 © 2010-2015 Robert McNeel & Associates. 17-Sep-2015\\n\\nOpen topic with navigation', metadata={'source': '/Users/shararenorouzi/Library/CloudStorage/GoogleDrive-norouzi.sharare@gmail.com/My Drive/Thesis/Pages/Cone.html'})]"
      ]
     },
     "execution_count": 45,
     "metadata": {},
     "output_type": "execute_result"
    }
   ],
   "source": [
    "data =loader.load()\n",
    "data"
   ]
  },
  {
   "cell_type": "code",
   "execution_count": 46,
   "metadata": {},
   "outputs": [
    {
     "data": {
      "text/plain": [
       "[Document(page_content='\\n\\n\\n\\n\\n\\n\\nCone | Rhino 3-D modeling\\n\\n\\n\\n\\n\\n\\n\\n\\n\\n\\n\\n\\n\\n\\n\\n\\n\\n\\nCone\\nWhere can I find this command?\\n\\nToolbars\\n\\nSolids Creation\\nSolids Sidebar\\n\\n Menus\\nSolid \\n Cone\\n\\n\\nThe Cone command draws a cone.\\n\\nSteps\\n\\n\\n\\n\\n\\n\\n1. \\n\\nPick the center and radius of the base.\\n\\n\\n\\nNote: See the Circle command for option descriptions.\\n\\n\\n\\n\\n\\n\\n\\n2. \\n\\nPick the end of the cone (apex). Your browser does not support the video tag.\\n\\n\\n\\nCommand-line options\\n\\nDirection constraint options\\nDirection constraints restrict the direction of the circle.\\nNone\\nThe center can be anywhere in 3-D space.\\nThe second point can be placed anywhere using elevator mode, object snaps or other modeling aids.\\nVertical\\nDraws an object perpendicular to the construction plane. \\nPick the center and a radius or diameter.\\n\\n\\n\\nAroundCurve\\nDraws a circle perpendicular to a curve. \\nSelect a curve and pick the center of the circle on the curve and a Radius or Diameter.\\n\\n\\n\\nSolid\\nThe Solid option fills the base with a surface to form a closed solid.\\nSee also\\nCreate solid objects\\n\\n\\n\\n\\nRhinoceros 5 © 2010-2015 Robert McNeel & Associates. 17-Sep-2015\\n\\n\\nOpen topic with navigation\\n\\n\\n', metadata={'source': '/Users/shararenorouzi/Library/CloudStorage/GoogleDrive-norouzi.sharare@gmail.com/My Drive/Thesis/Pages/Cone.html', 'title': 'Cone | Rhino 3-D modeling'})]"
      ]
     },
     "execution_count": 46,
     "metadata": {},
     "output_type": "execute_result"
    }
   ],
   "source": [
    "from langchain_community.document_loaders import BSHTMLLoader\n",
    "\n",
    "loader = BSHTMLLoader(pages_dir+'/Cone.html')\n",
    "data = loader.load()\n",
    "data"
   ]
  },
  {
   "cell_type": "markdown",
   "metadata": {},
   "source": [
    "## Prompt"
   ]
  },
  {
   "cell_type": "code",
   "execution_count": null,
   "metadata": {},
   "outputs": [],
   "source": []
  }
 ],
 "metadata": {
  "kernelspec": {
   "display_name": "base",
   "language": "python",
   "name": "python3"
  },
  "language_info": {
   "codemirror_mode": {
    "name": "ipython",
    "version": 3
   },
   "file_extension": ".py",
   "mimetype": "text/x-python",
   "name": "python",
   "nbconvert_exporter": "python",
   "pygments_lexer": "ipython3",
   "version": "3.11.8"
  }
 },
 "nbformat": 4,
 "nbformat_minor": 2
}
